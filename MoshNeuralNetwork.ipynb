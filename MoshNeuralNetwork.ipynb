{
 "cells": [
  {
   "cell_type": "markdown",
   "id": "f1656ea1",
   "metadata": {},
   "source": [
    "# Neural Network Model"
   ]
  },
  {
   "cell_type": "markdown",
   "id": "3bd57874",
   "metadata": {},
   "source": [
    "### General Steps \n",
    "\n",
    "1. Import Data\n",
    "2. Clean Data\n",
    "3. Split data into testing/training splits\n",
    "4. Create a model \n",
    "5. Train the model \n",
    "6. Make predictions\n",
    "7. Evaluate and improve "
   ]
  },
  {
   "cell_type": "markdown",
   "id": "921ae57d",
   "metadata": {},
   "source": [
    "## Importing Data"
   ]
  },
  {
   "cell_type": "code",
   "execution_count": 1,
   "id": "7ff2ae73",
   "metadata": {},
   "outputs": [],
   "source": [
    "# requirments \n",
    "import pandas as pd\n",
    "import numpy as np\n",
    "from sklearn.preprocessing import MinMaxScaler\n",
    "from tensorflow.keras.models import Sequential\n",
    "\n"
   ]
  },
  {
   "cell_type": "code",
   "execution_count": 2,
   "id": "b2f8c058",
   "metadata": {},
   "outputs": [
    {
     "name": "stdout",
     "output_type": "stream",
     "text": [
      "               Date   Time     Open     High      Low    Close   Up  Down\n",
      "0        09/11/1997  03:35  1033.25  1033.25  1030.75  1030.75    5     0\n",
      "1        09/11/1997  04:50  1030.25  1030.25  1030.25  1030.25    1     0\n",
      "2        09/11/1997  07:10  1029.75  1029.75  1029.50  1029.50    3     0\n",
      "3        09/11/1997  07:15  1029.50  1029.50  1029.00  1029.00    2     0\n",
      "4        09/11/1997  07:25  1029.00  1029.25  1028.50  1028.50    7     0\n",
      "...             ...    ...      ...      ...      ...      ...  ...   ...\n",
      "1534492  08/16/2021  19:50  4465.25  4467.00  4465.25  4466.75  199   257\n",
      "1534493  08/16/2021  19:55  4466.75  4467.00  4466.25  4466.25  116   272\n",
      "1534494  08/16/2021  20:00  4466.25  4466.75  4465.75  4466.50  254   299\n",
      "1534495  08/16/2021  20:05  4466.75  4466.75  4466.00  4466.25  235   148\n",
      "1534496  08/16/2021  20:10  4466.25  4466.50  4466.00  4466.25   72    30\n",
      "\n",
      "[1534497 rows x 8 columns]\n"
     ]
    }
   ],
   "source": [
    "df = pd.read_csv(\"@MES00_Micro-e-mini-S&P_5min_20years.txt\")\n",
    "print(df)\n"
   ]
  },
  {
   "cell_type": "code",
   "execution_count": 3,
   "id": "72c896df",
   "metadata": {},
   "outputs": [
    {
     "data": {
      "text/plain": [
       "(1534497, 8)"
      ]
     },
     "execution_count": 3,
     "metadata": {},
     "output_type": "execute_result"
    }
   ],
   "source": [
    "df.shape\n"
   ]
  },
  {
   "cell_type": "code",
   "execution_count": 4,
   "id": "3dc4b10c",
   "metadata": {},
   "outputs": [
    {
     "data": {
      "text/html": [
       "<div>\n",
       "<style scoped>\n",
       "    .dataframe tbody tr th:only-of-type {\n",
       "        vertical-align: middle;\n",
       "    }\n",
       "\n",
       "    .dataframe tbody tr th {\n",
       "        vertical-align: top;\n",
       "    }\n",
       "\n",
       "    .dataframe thead th {\n",
       "        text-align: right;\n",
       "    }\n",
       "</style>\n",
       "<table border=\"1\" class=\"dataframe\">\n",
       "  <thead>\n",
       "    <tr style=\"text-align: right;\">\n",
       "      <th></th>\n",
       "      <th>Open</th>\n",
       "      <th>High</th>\n",
       "      <th>Low</th>\n",
       "      <th>Close</th>\n",
       "      <th>Up</th>\n",
       "      <th>Down</th>\n",
       "    </tr>\n",
       "  </thead>\n",
       "  <tbody>\n",
       "    <tr>\n",
       "      <th>count</th>\n",
       "      <td>1.534497e+06</td>\n",
       "      <td>1.534497e+06</td>\n",
       "      <td>1.534497e+06</td>\n",
       "      <td>1.534497e+06</td>\n",
       "      <td>1.534497e+06</td>\n",
       "      <td>1.534497e+06</td>\n",
       "    </tr>\n",
       "    <tr>\n",
       "      <th>mean</th>\n",
       "      <td>1.606186e+03</td>\n",
       "      <td>1.606851e+03</td>\n",
       "      <td>1.605518e+03</td>\n",
       "      <td>1.606187e+03</td>\n",
       "      <td>2.199346e+03</td>\n",
       "      <td>2.194902e+03</td>\n",
       "    </tr>\n",
       "    <tr>\n",
       "      <th>std</th>\n",
       "      <td>8.197499e+02</td>\n",
       "      <td>8.199624e+02</td>\n",
       "      <td>8.195308e+02</td>\n",
       "      <td>8.197520e+02</td>\n",
       "      <td>4.790837e+03</td>\n",
       "      <td>4.847823e+03</td>\n",
       "    </tr>\n",
       "    <tr>\n",
       "      <th>min</th>\n",
       "      <td>4.362500e+02</td>\n",
       "      <td>4.377500e+02</td>\n",
       "      <td>4.355000e+02</td>\n",
       "      <td>4.360000e+02</td>\n",
       "      <td>0.000000e+00</td>\n",
       "      <td>0.000000e+00</td>\n",
       "    </tr>\n",
       "    <tr>\n",
       "      <th>25%</th>\n",
       "      <td>1.044000e+03</td>\n",
       "      <td>1.044500e+03</td>\n",
       "      <td>1.043500e+03</td>\n",
       "      <td>1.044000e+03</td>\n",
       "      <td>5.300000e+01</td>\n",
       "      <td>3.000000e+01</td>\n",
       "    </tr>\n",
       "    <tr>\n",
       "      <th>50%</th>\n",
       "      <td>1.251250e+03</td>\n",
       "      <td>1.251750e+03</td>\n",
       "      <td>1.250750e+03</td>\n",
       "      <td>1.251250e+03</td>\n",
       "      <td>3.200000e+02</td>\n",
       "      <td>3.040000e+02</td>\n",
       "    </tr>\n",
       "    <tr>\n",
       "      <th>75%</th>\n",
       "      <td>2.015750e+03</td>\n",
       "      <td>2.016500e+03</td>\n",
       "      <td>2.015250e+03</td>\n",
       "      <td>2.015750e+03</td>\n",
       "      <td>1.900000e+03</td>\n",
       "      <td>1.894000e+03</td>\n",
       "    </tr>\n",
       "    <tr>\n",
       "      <th>max</th>\n",
       "      <td>4.475000e+03</td>\n",
       "      <td>4.476500e+03</td>\n",
       "      <td>4.473750e+03</td>\n",
       "      <td>4.475000e+03</td>\n",
       "      <td>2.209230e+05</td>\n",
       "      <td>1.573790e+05</td>\n",
       "    </tr>\n",
       "  </tbody>\n",
       "</table>\n",
       "</div>"
      ],
      "text/plain": [
       "               Open          High           Low         Close            Up  \\\n",
       "count  1.534497e+06  1.534497e+06  1.534497e+06  1.534497e+06  1.534497e+06   \n",
       "mean   1.606186e+03  1.606851e+03  1.605518e+03  1.606187e+03  2.199346e+03   \n",
       "std    8.197499e+02  8.199624e+02  8.195308e+02  8.197520e+02  4.790837e+03   \n",
       "min    4.362500e+02  4.377500e+02  4.355000e+02  4.360000e+02  0.000000e+00   \n",
       "25%    1.044000e+03  1.044500e+03  1.043500e+03  1.044000e+03  5.300000e+01   \n",
       "50%    1.251250e+03  1.251750e+03  1.250750e+03  1.251250e+03  3.200000e+02   \n",
       "75%    2.015750e+03  2.016500e+03  2.015250e+03  2.015750e+03  1.900000e+03   \n",
       "max    4.475000e+03  4.476500e+03  4.473750e+03  4.475000e+03  2.209230e+05   \n",
       "\n",
       "               Down  \n",
       "count  1.534497e+06  \n",
       "mean   2.194902e+03  \n",
       "std    4.847823e+03  \n",
       "min    0.000000e+00  \n",
       "25%    3.000000e+01  \n",
       "50%    3.040000e+02  \n",
       "75%    1.894000e+03  \n",
       "max    1.573790e+05  "
      ]
     },
     "execution_count": 4,
     "metadata": {},
     "output_type": "execute_result"
    }
   ],
   "source": [
    "df.describe()"
   ]
  },
  {
   "cell_type": "markdown",
   "id": "ed79b851",
   "metadata": {},
   "source": [
    "### Clean the Data"
   ]
  },
  {
   "cell_type": "code",
   "execution_count": 23,
   "id": "3de37ddf",
   "metadata": {},
   "outputs": [
    {
     "name": "stdout",
     "output_type": "stream",
     "text": [
      "               Date   Time    Close\n",
      "0        09/11/1997  03:35  1030.75\n",
      "1        09/11/1997  04:50  1030.25\n",
      "2        09/11/1997  07:10  1029.50\n",
      "3        09/11/1997  07:15  1029.00\n",
      "4        09/11/1997  07:25  1028.50\n",
      "...             ...    ...      ...\n",
      "1534492  08/16/2021  19:50  4466.75\n",
      "1534493  08/16/2021  19:55  4466.25\n",
      "1534494  08/16/2021  20:00  4466.50\n",
      "1534495  08/16/2021  20:05  4466.25\n",
      "1534496  08/16/2021  20:10  4466.25\n",
      "\n",
      "[1534497 rows x 3 columns]\n"
     ]
    }
   ],
   "source": [
    "drop1 = df.drop(columns=['Open'])\n",
    "drop2 = drop1.drop(columns=['High'])\n",
    "drop3 = drop2.drop(columns=['Low'])\n",
    "drop4 = drop3.drop(columns=['Up'])\n",
    "clean_data = drop4.drop(columns=['Down'])\n",
    "print(clean_data)"
   ]
  },
  {
   "cell_type": "code",
   "execution_count": 63,
   "id": "68ed11dc",
   "metadata": {},
   "outputs": [],
   "source": [
    "scaler = MinMaxScaler(feature_range=(0,1))\n",
    "scaled_data = scaler.fit_transform(clean_data['Close'].values.reshape(-1, 1))\n",
    "\n",
    "\n"
   ]
  },
  {
   "cell_type": "markdown",
   "id": "7c9472ce",
   "metadata": {},
   "source": [
    "### Split Data"
   ]
  },
  {
   "cell_type": "code",
   "execution_count": 65,
   "id": "bbf30e65",
   "metadata": {},
   "outputs": [
    {
     "name": "stdout",
     "output_type": "stream",
     "text": [
      "1227598\n",
      "03/29/2017\n"
     ]
    }
   ],
   "source": [
    "# Getting Counts\n",
    "\n",
    "roundedFullCount = round(len(scaled_data))\n",
    "x_test_count = round(len(scaled_data)*0.80)\n",
    "print(x_test_count)\n",
    "print(clean_data['Date'][1227598])\n",
    "split_point = scaled_data[x_test_count]\n",
    "\n"
   ]
  },
  {
   "cell_type": "code",
   "execution_count": 66,
   "id": "d38ef80e",
   "metadata": {},
   "outputs": [
    {
     "name": "stdout",
     "output_type": "stream",
     "text": [
      "[]\n"
     ]
    }
   ],
   "source": [
    "x_train = []\n",
    "i = 0\n",
    "stop = False\n",
    "while(i > x_test_count):\n",
    "    if(i > x_test_count):\n",
    "        x_train.append(scaled_data[i].value)\n",
    "        i = i + 1\n",
    "    else:\n",
    "        break;\n",
    "    \n",
    "print(x_train)\n"
   ]
  },
  {
   "cell_type": "code",
   "execution_count": null,
   "id": "ac5ac992",
   "metadata": {},
   "outputs": [],
   "source": [
    "for i in roundedFullCount:\n",
    "    if scaled_data[i] < x_test_count:\n",
    "        x_train.append(scaled_data[i])"
   ]
  }
 ],
 "metadata": {
  "kernelspec": {
   "display_name": "Python 3",
   "language": "python",
   "name": "python3"
  },
  "language_info": {
   "codemirror_mode": {
    "name": "ipython",
    "version": 3
   },
   "file_extension": ".py",
   "mimetype": "text/x-python",
   "name": "python",
   "nbconvert_exporter": "python",
   "pygments_lexer": "ipython3",
   "version": "3.8.8"
  }
 },
 "nbformat": 4,
 "nbformat_minor": 5
}
